{
 "cells": [
  {
   "cell_type": "markdown",
   "source": [
    "# Dasar Pemrograman Python"
   ],
   "metadata": {}
  },
  {
   "cell_type": "markdown",
   "source": [
    "Untuk menjalankan shell tekan `Shift+Enter`."
   ],
   "metadata": {}
  },
  {
   "cell_type": "markdown",
   "source": [
    "### <u>Jupyter Notebook Markdown</u>"
   ],
   "metadata": {}
  },
  {
   "cell_type": "markdown",
   "source": [
    "<h1>Heading 1 HTML</h1>\n",
    "<h2>Heading 2 HTML</h2>\n",
    "\n",
    "\n",
    "# Heading 1 Jupyter\n",
    "## Heading 2 Jupyter"
   ],
   "metadata": {}
  },
  {
   "cell_type": "markdown",
   "source": [
    "## 1. Variabel\n",
    "\n",
    "Deklarasi variabel pada Python tidak mengikutsertakan tipe data variabelnya. Tipe data akan dideteksi secara otomatis oleh interpreter pada saat operasi terhadap variabel tersebut dilakukan."
   ],
   "metadata": {}
  },
  {
   "cell_type": "code",
   "execution_count": 1,
   "source": [
    "var_1 = 100\n",
    "var_2 = 100.55\n",
    "var_3 = \"Hello World\"\n",
    "var_4 = False\n",
    "var_5 = 'ABC'"
   ],
   "outputs": [],
   "metadata": {}
  },
  {
   "cell_type": "markdown",
   "source": [
    "## 2. Operasi Aritmatika"
   ],
   "metadata": {}
  },
  {
   "cell_type": "code",
   "execution_count": 2,
   "source": [
    "print(var_1 + var_2) # Penjumlahan\n",
    "print(5 * var_1) # Perkalian\n",
    "print(var_1 - 50) # Pengurangan\n",
    "print(var_2 / 2) # Pembagian"
   ],
   "outputs": [
    {
     "output_type": "stream",
     "name": "stdout",
     "text": [
      "200.55\n",
      "500\n",
      "50\n",
      "50.275\n"
     ]
    }
   ],
   "metadata": {}
  },
  {
   "cell_type": "markdown",
   "source": [
    "### Operasi Aritmatika dengan tipe data lain"
   ],
   "metadata": {}
  },
  {
   "cell_type": "code",
   "execution_count": 3,
   "source": [
    "# Operasi dengan tipe data string\n",
    "print(var_3 + ' ' + var_5) \n",
    "print(3 * var_5)"
   ],
   "outputs": [
    {
     "output_type": "stream",
     "name": "stdout",
     "text": [
      "Hello World ABC\n",
      "ABCABCABC\n"
     ]
    }
   ],
   "metadata": {}
  },
  {
   "cell_type": "markdown",
   "source": [
    "## 3. Kondisi If - else"
   ],
   "metadata": {}
  },
  {
   "cell_type": "code",
   "execution_count": 4,
   "source": [
    "x = 1\n",
    "if (x % 2 == 0):\n",
    "    print (\"Bilangan Genap\")\n",
    "    print('Hello')\n",
    "else:\n",
    "    print('Bilangan Ganjil')\n",
    "    print('Genap')"
   ],
   "outputs": [
    {
     "output_type": "stream",
     "name": "stdout",
     "text": [
      "Bilangan Ganjil\n",
      "Genap\n"
     ]
    }
   ],
   "source": [
    "x = 1\n",
    "if (x % 2 == 0):\n",
    "    print(\"Bilangan Genap\")\n",
    "    print('Hello')\n",
    "else:\n",
    "    print('Bilangan Ganjil')\n",
    "    print('Genap')"
   ]
  },
  {
   "cell_type": "markdown",
   "source": [
    "### 3.1 Kondisi If - else if\n",
    "\n",
    "Kondisi `else if` pada python menggunakan kata kunci `elif`."
   ],
   "metadata": {}
  },
  {
   "cell_type": "code",
   "execution_count": 5,
   "source": [
    "x = 10\n",
    "if x > 5:\n",
    "    print('Lebih dari 5')\n",
    "elif x < 15:\n",
    "    print('Kurang dari 15')\n",
    "elif x > 20:\n",
    "    print('Lebih dari 20')"
   ],
   "outputs": [
    {
     "output_type": "stream",
     "name": "stdout",
     "text": [
      "Lebih dari 5\n"
     ]
    }
   ],
   "metadata": {}
  },
  {
   "cell_type": "markdown",
   "source": [
    "## 4. Pengulangan\n",
    "\n",
    "Untuk melakukan dengan pengulangan dengan tipe data integer, biasanya dibantu dengan menyertakan fungsi `range()`."
   ],
   "metadata": {}
  },
  {
   "cell_type": "markdown",
   "source": [
    "### 4.1 Pengulangan For"
   ],
   "metadata": {}
  },
  {
   "cell_type": "code",
   "execution_count": 6,
   "source": [
    "for i in range(11): # Perulangan dari 0 hingga 10\n",
    "    print(i)"
   ],
   "outputs": [
    {
     "output_type": "stream",
     "name": "stdout",
     "text": [
      "0\n",
      "1\n",
      "2\n",
      "3\n",
      "4\n",
      "5\n",
      "6\n",
      "7\n",
      "8\n",
      "9\n",
      "10\n"
     ]
    }
   ],
   "metadata": {}
  },
  {
   "cell_type": "code",
   "execution_count": 7,
   "source": [
    "for i in range(1, 11): # Perulangan dari 1 hingga 10\n",
    "    print(i)"
   ],
   "outputs": [
    {
     "output_type": "stream",
     "name": "stdout",
     "text": [
      "1\n",
      "2\n",
      "3\n",
      "4\n",
      "5\n",
      "6\n",
      "7\n",
      "8\n",
      "9\n",
      "10\n"
     ]
    }
   ],
   "metadata": {}
  },
  {
   "cell_type": "code",

   "execution_count": 5,
   "metadata": {},

   "outputs": [
    {
     "output_type": "stream",
     "name": "stdout",
     "text": [
      "1\n",
      "6\n",
      "11\n",
      "16\n",
      "21\n"
     ]
    }
   ],

   "metadata": {}
  },
  {
   "cell_type": "code",
   "execution_count": 9,
   "source": [
    "for i in 'Hello World': # Perulangan for pada tipe data String\n",
    "    print(i)"
   ],

   "outputs": [
    {
     "output_type": "stream",
     "name": "stdout",
     "text": [
      "0 H\n",
      "1 e\n",
      "2 l\n",
      "3 l\n",
      "4 o\n",
      "5  \n",
      "6 W\n",
      "7 o\n",
      "8 r\n",
      "9 l\n",
      "10 d\n"
     ]
    }
   ],
   "source": [
    "for index, word in enumerate('Hello World'): # Perulangan for pada tipe data String\n",
    "    print(index, word)"
   ]
  },
  {
   "cell_type": "markdown",
   "source": [
    "### 4.2 Pengulangan dengan While"
   ],
   "metadata": {}
  },
  {
   "cell_type": "code",
   "execution_count": 10,
   "source": [
    "i = 0 # Inisialisasi\n",
    "while i in range(10):\n",
    "    print(i)\n",
    "    i += 1 # Increment"
   ],
   "outputs": [
    {
     "output_type": "stream",
     "name": "stdout",
     "text": [
      "0\n",
      "1\n",
      "2\n",
      "3\n",
      "4\n",
      "5\n",
      "6\n",
      "7\n",
      "8\n",
      "9\n"
     ]
    }
   ],
   "metadata": {}
  },
  {
   "cell_type": "markdown",
   "source": [
    " Python tidak mengenal pengulangan **`do-while`**."
   ],
   "metadata": {}
  },
  {
   "cell_type": "markdown",
   "source": [
    "### 4.3 Perulangan Bercabang\n",
    "\n",
    "Di beberapa kasus, kita diharuskan untuk menggunakan perulangan bercabang. Misalnya, kita ingin menampilkan bilangan prima dari 2 sampai dengan 100."
   ],
   "metadata": {}
  },
  {
   "cell_type": "code",
   "execution_count": 2,
   "source": [
    "i = 2\n",
    "while(i < 100):\n",
    "\tj = 2\n",
    "\twhile(j <= (i/j)):\n",
    "\t\tif not(i%j): \n",
    "\t\t\tbreak\n",
    "\t\tj = j + 1\n",
    "\tif (j > i/j):\n",
    "\t\tprint(i, ' adalah bilangan Prima')\n",
    "\ti = i + 1"
   ],
   "outputs": [
    {
     "output_type": "stream",
     "name": "stdout",
     "text": [
      "2  adalah bilangan Prima\n",
      "3  adalah bilangan Prima\n",
      "5  adalah bilangan Prima\n",
      "7  adalah bilangan Prima\n",
      "11  adalah bilangan Prima\n",
      "13  adalah bilangan Prima\n",
      "17  adalah bilangan Prima\n",
      "19  adalah bilangan Prima\n",
      "23  adalah bilangan Prima\n",
      "29  adalah bilangan Prima\n",
      "31  adalah bilangan Prima\n",
      "37  adalah bilangan Prima\n",
      "41  adalah bilangan Prima\n",
      "43  adalah bilangan Prima\n",
      "47  adalah bilangan Prima\n",
      "53  adalah bilangan Prima\n",
      "59  adalah bilangan Prima\n",
      "61  adalah bilangan Prima\n",
      "67  adalah bilangan Prima\n",
      "71  adalah bilangan Prima\n",
      "73  adalah bilangan Prima\n",
      "79  adalah bilangan Prima\n",
      "83  adalah bilangan Prima\n",
      "89  adalah bilangan Prima\n",
      "97  adalah bilangan Prima\n"
     ]
    }
   ],
   "metadata": {}
  },
  {
   "cell_type": "markdown",
   "source": [
    "### 4.4 Break Statement\n",
    "\n",
    "Statement `break` dapat digunakan untuk menghentikan pengulangan ketika pengulangan tersebut masih berlangsung."
   ],
   "metadata": {}
  },
  {
   "cell_type": "code",
   "execution_count": 4,
   "source": [
    "# Contoh 1\n",
    "print('Contoh 1')\n",
    "for huruf in 'Hello World':\n",
    "\tif huruf == 'W':\n",
    "\t\tbreak\n",
    "\tprint('Huruf sekarang: ', huruf)\n",
    "\n",
    "print('\\n')\n",
    "\n",
    "# Contoh 2\n",
    "print('Contoh 2')\n",
    "angka = 10\n",
    "while(angka > 0):\n",
    "\tprint('Angka sekarang: ', angka)\n",
    "\tangka = angka - 1\n",
    "\tif(angka == 5):\n",
    "\t\tbreak"
   ],
   "outputs": [
    {
     "output_type": "stream",
     "name": "stdout",
     "text": [
      "Contoh 1\n",
      "Huruf sekarang:  H\n",
      "Huruf sekarang:  e\n",
      "Huruf sekarang:  l\n",
      "Huruf sekarang:  l\n",
      "Huruf sekarang:  o\n",
      "Huruf sekarang:   \n",
      "\n",
      "\n",
      "Contoh 2\n",
      "Angka sekarang:  10\n",
      "Angka sekarang:  9\n",
      "Angka sekarang:  8\n",
      "Angka sekarang:  7\n",
      "Angka sekarang:  6\n"
     ]
    }
   ],
   "metadata": {}
  },
  {
   "cell_type": "markdown",
   "source": [
    "### 4.5 Continue Statement\n",
    "Statement `continue` digunakan pada saat kita ingin melewatkan pengulangan yang akan dilakukan, dan melanjutkan pengulangan yang berikutnya."
   ],
   "metadata": {}
  },
  {
   "cell_type": "code",
   "execution_count": 5,
   "source": [
    "# Contoh 1\n",
    "print('Contoh 1')\n",
    "for huruf in 'Hello World':\n",
    "\tif huruf == 'W':\n",
    "\t\tcontinue\n",
    "\tprint('Huruf sekarang: ', huruf)\n",
    "\n",
    "print('\\n')\n",
    "\n",
    "# Contoh 2\n",
    "print('Contoh 2')\n",
    "angka = 10\n",
    "while(angka > 0):\n",
    "\tprint('Angka sekarang: ', angka)\n",
    "\tangka = angka - 1\n",
    "\tif(angka == 5):\n",
    "\t\tcontinue\n",
    "\tprint('Angka sekarang: ', angka)"
   ],
   "outputs": [
    {
     "output_type": "stream",
     "name": "stdout",
     "text": [
      "Contoh 1\n",
      "Huruf sekarang:  H\n",
      "Huruf sekarang:  e\n",
      "Huruf sekarang:  l\n",
      "Huruf sekarang:  l\n",
      "Huruf sekarang:  o\n",
      "Huruf sekarang:   \n",
      "Huruf sekarang:  o\n",
      "Huruf sekarang:  r\n",
      "Huruf sekarang:  l\n",
      "Huruf sekarang:  d\n",
      "\n",
      "\n",
      "Contoh 2\n",
      "Angka sekarang:  10\n",
      "Angka sekarang:  9\n",
      "Angka sekarang:  8\n",
      "Angka sekarang:  7\n",
      "Angka sekarang:  6\n",
      "Angka sekarang:  5\n",
      "Angka sekarang:  4\n",
      "Angka sekarang:  3\n",
      "Angka sekarang:  2\n",
      "Angka sekarang:  1\n"
     ]
    }
   ],
   "metadata": {}
  },
  {
   "cell_type": "markdown",
   "source": [
    "### 4.6 Pass Statement\n",
    "\n",
    "Statement `pass` digunakan ketika kita ingin interpreter mengabaikan statement yang diberikan."
   ],
   "metadata": {}
  },
  {
   "cell_type": "code",
   "execution_count": 6,
   "source": [
    "for huruf in 'Hello World':\n",
    "\tif huruf == 'W':\n",
    "\t\tpass\n",
    "\t\tprint('Ini adalah bagian dari eksekusi statement pass')\n",
    "\tprint('Huruf sekarang: ', huruf)\n",
    "\n",
    "print('\\n')"
   ],
   "outputs": [
    {
     "output_type": "stream",
     "name": "stdout",
     "text": [
      "Huruf sekarang:  H\n",
      "Huruf sekarang:  e\n",
      "Huruf sekarang:  l\n",
      "Huruf sekarang:  l\n",
      "Huruf sekarang:  o\n",
      "Huruf sekarang:   \n",
      "Ini adalah bagian dari eksekusi statement pass\n",
      "Huruf sekarang:  W\n",
      "Huruf sekarang:  o\n",
      "Huruf sekarang:  r\n",
      "Huruf sekarang:  l\n",
      "Huruf sekarang:  d\n",
      "\n",
      "\n"
     ]
    }
   ],
   "metadata": {}
  },
  {
   "cell_type": "markdown",
   "source": [
    "## 5. List"
   ],
   "metadata": {}
  },
  {
   "cell_type": "markdown",
   "source": [
    "Struktur data **`List`** pada Python mirip dengan struktur data array pada bahasa pemrograman C++, namun list bisa memiliki elemen yang berbeda tipe datanya dan bisa juga sama.\n",
    "Contoh:"
   ],
   "metadata": {}
  },
  {
   "cell_type": "code",
   "execution_count": 8,
   "source": [
    "list_1 = ['banana', 'apple','mango']\n",
    "list_2 = [1, 2, 3, 4, 5]\n",
    "list_3 = [0.1, 0.2, 0.3, 0.4]\n",
    "list_4 = ['banana', 1, 'apple', 2, 'mango', 3]"
   ],
   "outputs": [],
   "metadata": {}
  },
  {
   "cell_type": "markdown",
   "source": [
    "### 5.1 Mengakses Elemen pada List"
   ],
   "metadata": {}
  },
  {
   "cell_type": "code",
   "execution_count": 11,
   "source": [
    "print(list_1)\t\t\t# Mengakses seluruh elemen list\n",
    "print(list_2[1])\t\t# Mengakses elemen list dengan index 1\n",
    "print(list_2[2:])\t\t# Mengakses elemen list dengan index 2 sampai kurang dari akhir\n",
    "print(list_3[1:3])\t\t# Mengakses elemen list dengan index 1 sampai kurang dari 3\n",
    "print(list_4[1:5:2])\t# Mengakses elemen list dengan index 1 sampai kurang dari 5 dengan jarak 2\n",
    "print(list_4[::-1])\t\t# Mengakses elemen list dengan index terbalik"
   ],
   "outputs": [
    {
     "output_type": "stream",
     "name": "stdout",
     "text": [
      "['banana', 'apple', 'mango']\n",
      "2\n",
      "[0.2, 0.3]\n",
      "[1, 2]\n",
      "[3, 'mango', 2, 'apple', 1, 'banana']\n",
      "[3, 4, 5]\n"
     ]
    }
   ],
   "metadata": {}
  },
  {
   "cell_type": "markdown",
   "source": [
    "### 5.2 Update Elemen pada List"
   ],
   "metadata": {}
  },
  {
   "cell_type": "code",
   "execution_count": 13,
   "source": [
    "list_1 = ['banana', 'apple','mango']\n",
    "print('Elemen list sekarang: ', list_1)\n",
    "\n",
    "list_1[1] = 'pear'\t\t\t\t\t\t\t# Mengubah elemen list dengan index 1 menjadi 'pear'\n",
    "print('\\nUpdate elemen')\n",
    "print('Elemen list sekarang: ', list_1)"
   ],
   "outputs": [
    {
     "output_type": "stream",
     "name": "stdout",
     "text": [
      "Elemen list sekarang:  ['banana', 'apple', 'mango']\n",
      "\n",
      "Update elemen\n",
      "Elemen list sekarang:  ['banana', 'pear', 'mango']\n"
     ]
    }
   ],
   "metadata": {}
  },
  {
   "cell_type": "markdown",
   "source": [
    "### 5.3 Menambahkan Elemen pada List"
   ],
   "metadata": {}
  },
  {
   "cell_type": "code",
   "execution_count": 14,
   "source": [
    "list_1 = ['banana', 'apple','mango']\n",
    "print('Elemen list sekarang: ', list_1)\n",
    "\n",
    "list_1.append('orange')\t\t\t\t\t\t# Menambahkan elemen list 'orange' di akhir list\n",
    "print('\\nMenambahkan elemen')\n",
    "print('Elemen list sekarang: ', list_1)"
   ],
   "outputs": [
    {
     "output_type": "stream",
     "name": "stdout",
     "text": [
      "Elemen list sekarang:  ['banana', 'apple', 'mango']\n",
      "\n",
      "Menambahkan elemen\n",
      "Elemen list sekarang:  ['banana', 'apple', 'mango', 'orange']\n"
     ]
    }
   ],
   "metadata": {}
  },
  {
   "cell_type": "markdown",
   "source": [
    "### 5.4 Menghapus Elemen pada List"
   ],
   "metadata": {}
  },
  {
   "cell_type": "code",
   "execution_count": 15,
   "source": [
    "list_1 = ['banana', 'apple','mango']\n",
    "print('Elemen list sekarang: ', list_1)\n",
    "\n",
    "del list_1[1]\t\t\t\t\t\t\t\t# Menghapus elemen list dengan index 1\n",
    "print('\\nMenghapus elemen')\n",
    "print('Elemen list sekarang: ', list_1)"
   ],
   "outputs": [
    {
     "output_type": "stream",
     "name": "stdout",
     "text": [
      "Elemen list sekarang:  ['banana', 'apple', 'mango']\n",
      "\n",
      "Menghapus elemen\n",
      "Elemen list sekarang:  ['banana', 'mango']\n"
     ]
    }
   ],
   "metadata": {}
  },
  {
   "cell_type": "markdown",
   "source": [
    "### 5.5 Operasi Dasar List"
   ],
   "metadata": {}
  },
  {
   "cell_type": "markdown",
   "source": [
    "Operasi yang dapat dilakukan pada sebuah list adalah:"
   ],
   "metadata": {}
  },
  {
   "cell_type": "code",
   "execution_count": 16,
   "source": [
    "list_1 = ['banana', 'apple','mango']\n",
    "list_2 = [1, 2, 3, 4, 5]\n",
    "\n",
    "list_x = list_1 + list_2\t\t\t\t# Menggabungkan list_1 dan list_2 menjadi list_x\n",
    "print(list_x)"
   ],
   "outputs": [
    {
     "output_type": "stream",
     "name": "stdout",
     "text": [
      "['banana', 'apple', 'mango', 1, 2, 3, 4, 5]\n"
     ]
    }
   ],
   "metadata": {}
  },
  {
   "cell_type": "code",
   "execution_count": 17,
   "source": [
    "list_3 = [0.1, 0.2, 0.3, 0.4]\n",
    "\n",
    "list_x = list_2 + list_3\n",
    "print(list_x)"
   ],
   "outputs": [
    {
     "output_type": "stream",
     "name": "stdout",
     "text": [
      "[1, 2, 3, 4, 5, 0.1, 0.2, 0.3, 0.4]\n"
     ]
    }
   ],
   "metadata": {}
  },
  {
   "cell_type": "markdown",
   "source": [
    "Berbeda dengan operasi penambahan (**`concatenate`**) di atas, kita dapat melakukan operasi perkalian skalar dengan suatu list, contoh:"
   ],
   "metadata": {}
  },
  {
   "cell_type": "code",
   "execution_count": 19,
   "source": [
    "list_1 = ['banana', 'apple','mango']\n",
    "print(list_1 * 3)"
   ],
   "outputs": [
    {
     "output_type": "stream",
     "name": "stdout",
     "text": [
      "['banana', 'apple', 'mango', 'banana', 'apple', 'mango', 'banana', 'apple', 'mango']\n"
     ]
    }
   ],
   "metadata": {
    "scrolled": true
   }
  },
  {
   "cell_type": "code",
   "execution_count": 21,
   "source": [
    "list_2 = [1, 2, 3, 4, 5]\n",
    "print(list_2 * 5)"
   ],
   "outputs": [
    {
     "output_type": "stream",
     "name": "stdout",
     "text": [
      "[1, 2, 3, 4, 5, 1, 2, 3, 4, 5, 1, 2, 3, 4, 5, 1, 2, 3, 4, 5, 1, 2, 3, 4, 5]\n"
     ]
    }
   ],
   "metadata": {}
  },
  {
   "cell_type": "markdown",
   "source": [
    "Kita juga bisa melakukan operasi aritmatika terhadap elemen-elemen yang berada di dalam list."
   ],
   "metadata": {}
  },
  {
   "cell_type": "code",
   "execution_count": 22,
   "source": [
    "list_x = ['manggo'*2, 10*3, 5-4, 4/2]\n",
    "print(list_x)"
   ],
   "outputs": [
    {
     "output_type": "stream",
     "name": "stdout",
     "text": [
      "['manggomanggo', 30, 1, 2.0]\n"
     ]
    }
   ],
   "metadata": {}
  },
  {
   "cell_type": "markdown",
   "source": [
    "### 5.6 Menambahkan elemen list di tengah"
   ],
   "metadata": {}
  },
  {
   "cell_type": "code",
   "execution_count": 23,
   "source": [
    "list_1 = ['banana', 'apple','mango']\n",
    "list_1.insert(1, 'grape')\t\t\t\t# Menambahkan elemen list 'grape' di index 1\n",
    "print(list_1)"
   ],
   "outputs": [
    {
     "output_type": "stream",
     "name": "stdout",
     "text": [
      "['banana', 'grape', 'apple', 'mango']\n"
     ]
    }
   ],
   "metadata": {}
  }
 ],
 "metadata": {
  "kernelspec": {
   "name": "python3",
   "display_name": "Python 3.8.10 64-bit ('network-programming': venv)"
  },
  "language_info": {
   "codemirror_mode": {
    "name": "ipython",
    "version": 3
   },
   "file_extension": ".py",
   "mimetype": "text/x-python",
   "name": "python",
   "nbconvert_exporter": "python",
   "pygments_lexer": "ipython3",
   "version": "3.8.10"
  },
  "interpreter": {
   "hash": "0295dca6bc5f9a568baf23d890f03de04ecf5aa6fe5ac27a4f31ec7c74e85250"
  }
 },
 "nbformat": 4,
 "nbformat_minor": 2
}